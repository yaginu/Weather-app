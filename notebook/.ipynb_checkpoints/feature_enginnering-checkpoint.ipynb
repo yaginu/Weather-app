{
 "cells": [
  {
   "cell_type": "code",
   "execution_count": null,
   "id": "2bec9d0b",
   "metadata": {},
   "outputs": [],
   "source": [
    "import pandas as pd\n",
    "import numpy as np\n",
    "import matplotlib.pyplot as plt\n",
    "import seaborn as sns"
   ]
  },
  {
   "cell_type": "code",
   "execution_count": null,
   "id": "e53b17b1",
   "metadata": {},
   "outputs": [],
   "source": [
    "raw_dataset = pd.read_csv(\"Tokyo.csv\")"
   ]
  },
  {
   "cell_type": "code",
   "execution_count": null,
   "id": "122602dc",
   "metadata": {},
   "outputs": [],
   "source": [
    "raw_dataset.head()"
   ]
  },
  {
   "cell_type": "code",
   "execution_count": null,
   "id": "be11ac9c",
   "metadata": {},
   "outputs": [],
   "source": [
    "raw_dataset.describe()"
   ]
  },
  {
   "cell_type": "code",
   "execution_count": null,
   "id": "26462216",
   "metadata": {},
   "outputs": [],
   "source": [
    "dataset = raw_dataset.copy()"
   ]
  },
  {
   "cell_type": "code",
   "execution_count": null,
   "id": "405c3cc2",
   "metadata": {},
   "outputs": [],
   "source": [
    "dataset.isnull().sum()"
   ]
  },
  {
   "cell_type": "code",
   "execution_count": null,
   "id": "38b8362b",
   "metadata": {},
   "outputs": [],
   "source": [
    "dataset.info()"
   ]
  },
  {
   "cell_type": "markdown",
   "id": "26029e6f",
   "metadata": {},
   "source": [
    "# Date"
   ]
  },
  {
   "cell_type": "code",
   "execution_count": null,
   "id": "5a93afce",
   "metadata": {},
   "outputs": [],
   "source": [
    "date_time = pd.to_datetime(dataset[\"Date\"])"
   ]
  },
  {
   "cell_type": "code",
   "execution_count": null,
   "id": "a2163787",
   "metadata": {},
   "outputs": [],
   "source": [
    "timestamp_s = date_time.map(pd.Timestamp.timestamp)"
   ]
  },
  {
   "cell_type": "code",
   "execution_count": null,
   "id": "aae5086d",
   "metadata": {},
   "outputs": [],
   "source": [
    "timestamp_s"
   ]
  },
  {
   "cell_type": "code",
   "execution_count": null,
   "id": "a397cae0",
   "metadata": {},
   "outputs": [],
   "source": [
    "day = 24 * 60 * 60\n",
    "year = (365.2425) * day"
   ]
  },
  {
   "cell_type": "code",
   "execution_count": null,
   "id": "8fd05253",
   "metadata": {},
   "outputs": [],
   "source": [
    "dataset[\"Day sin\"] = np.sin(timestamp_s * (2 * np.pi / day))\n",
    "dataset[\"Day cos\"] = np.cos(timestamp_s * (2 * np.pi / day))\n",
    "\n",
    "dataset[\"Year sin\"] = np.sin(timestamp_s * (2 * np.pi / year))\n",
    "dataset[\"Year cos\"] = np.cos(timestamp_s * (2 * np.pi / year))"
   ]
  },
  {
   "cell_type": "code",
   "execution_count": null,
   "id": "60f980f6",
   "metadata": {},
   "outputs": [],
   "source": [
    "plt.plot(dataset[\"Day sin\"][:50])\n",
    "plt.plot(dataset[\"Day cos\"][:50])"
   ]
  },
  {
   "cell_type": "code",
   "execution_count": null,
   "id": "c9208b3c",
   "metadata": {},
   "outputs": [],
   "source": [
    "dataset = dataset.drop([\"Date\"], axis=1)"
   ]
  },
  {
   "cell_type": "markdown",
   "id": "635366e0",
   "metadata": {},
   "source": [
    "# Air Pressure"
   ]
  },
  {
   "cell_type": "code",
   "execution_count": null,
   "id": "d598d0b4",
   "metadata": {},
   "outputs": [],
   "source": [
    "plt.hist(dataset[\"air_pressure_ashore\"])"
   ]
  },
  {
   "cell_type": "code",
   "execution_count": null,
   "id": "038675d3",
   "metadata": {},
   "outputs": [],
   "source": [
    "dataset.loc[dataset[\"air_pressure_ashore\"] < 800.0, \"air_pressure_ashore\"] = dataset[\"air_pressure_ashore\"].mean()"
   ]
  },
  {
   "cell_type": "code",
   "execution_count": null,
   "id": "ff255f59",
   "metadata": {},
   "outputs": [],
   "source": [
    "plt.hist(dataset[\"air_pressure_ashore\"])"
   ]
  },
  {
   "cell_type": "code",
   "execution_count": null,
   "id": "e2551a9c",
   "metadata": {},
   "outputs": [],
   "source": [
    "plt.hist(dataset[\"air_pressure_afloat\"])"
   ]
  },
  {
   "cell_type": "code",
   "execution_count": null,
   "id": "4cd74163",
   "metadata": {},
   "outputs": [],
   "source": [
    "dataset.loc[dataset[\"air_pressure_afloat\"] < 800.0, \"air_pressure_afloat\"] = dataset[\"air_pressure_afloat\"].mean()"
   ]
  },
  {
   "cell_type": "code",
   "execution_count": null,
   "id": "af3fb02c",
   "metadata": {},
   "outputs": [],
   "source": [
    "plt.hist(dataset[\"air_pressure_afloat\"])"
   ]
  },
  {
   "cell_type": "code",
   "execution_count": null,
   "id": "6a9ff3d8",
   "metadata": {},
   "outputs": [],
   "source": [
    "dataset[\"diff_air_pressure\"] = dataset[\"air_pressure_ashore\"] - dataset[\"air_pressure_afloat\"]"
   ]
  },
  {
   "cell_type": "code",
   "execution_count": null,
   "id": "236b820a",
   "metadata": {},
   "outputs": [],
   "source": [
    "plt.hist(dataset[\"diff_air_pressure\"])"
   ]
  },
  {
   "cell_type": "code",
   "execution_count": null,
   "id": "55ecc1ab",
   "metadata": {},
   "outputs": [],
   "source": [
    "dataset.loc[dataset[\"diff_air_pressure\"] > 5.0, \"diff_air_pressure\"] = dataset[\"diff_air_pressure\"].mean()"
   ]
  },
  {
   "cell_type": "code",
   "execution_count": null,
   "id": "f3abd340",
   "metadata": {},
   "outputs": [],
   "source": [
    "sns.scatterplot(dataset[\"diff_air_pressure\"], dataset[\"temperature\"])"
   ]
  },
  {
   "cell_type": "code",
   "execution_count": null,
   "id": "f0a7345c",
   "metadata": {},
   "outputs": [],
   "source": [
    "dataset[\"diff_air_pressure_bucketized\"] = pd.cut(dataset[\"diff_air_pressure\"], 2)"
   ]
  },
  {
   "cell_type": "code",
   "execution_count": null,
   "id": "296c9e85",
   "metadata": {},
   "outputs": [],
   "source": [
    "dataset[\"diff_air_pressure_bucketized\"].value_counts()"
   ]
  },
  {
   "cell_type": "markdown",
   "id": "7c0d7257",
   "metadata": {},
   "source": [
    "# Precipitation"
   ]
  },
  {
   "cell_type": "code",
   "execution_count": null,
   "id": "29b9ab7c",
   "metadata": {},
   "outputs": [],
   "source": [
    "dataset[\"precipitation\"] = dataset[\"precipitation\"].fillna(0.0)"
   ]
  },
  {
   "cell_type": "code",
   "execution_count": null,
   "id": "77caa163",
   "metadata": {},
   "outputs": [],
   "source": [
    "plt.hist(dataset.loc[dataset[\"precipitation\"] > 0.0, \"precipitation\"])"
   ]
  },
  {
   "cell_type": "code",
   "execution_count": null,
   "id": "4d046583",
   "metadata": {},
   "outputs": [],
   "source": [
    "pd.cut(dataset[\"precipitation\"], [0, 10, 20, 30, 40, 50]).value_counts()"
   ]
  },
  {
   "cell_type": "code",
   "execution_count": null,
   "id": "baa72327",
   "metadata": {},
   "outputs": [],
   "source": [
    "dataset.loc[dataset[\"precipitation\"] > 40.0]"
   ]
  },
  {
   "cell_type": "code",
   "execution_count": null,
   "id": "44c6b6ac",
   "metadata": {},
   "outputs": [],
   "source": [
    "plt.scatter(dataset[\"precipitation\"], dataset[\"temperature\"])"
   ]
  },
  {
   "cell_type": "code",
   "execution_count": null,
   "id": "f7d70c0a",
   "metadata": {},
   "outputs": [],
   "source": [
    "plt.scatter(dataset.loc[dataset[\"precipitation\"]> 0, \"precipitation\"], dataset.loc[dataset[\"precipitation\"]> 0, \"temperature\"])"
   ]
  },
  {
   "cell_type": "markdown",
   "id": "7e288320",
   "metadata": {},
   "source": [
    "# Temperature"
   ]
  },
  {
   "cell_type": "code",
   "execution_count": null,
   "id": "4827f187",
   "metadata": {},
   "outputs": [],
   "source": [
    "sns.displot(dataset[\"temperature\"])"
   ]
  },
  {
   "cell_type": "markdown",
   "id": "b59077d8",
   "metadata": {},
   "source": [
    "# Humidity"
   ]
  },
  {
   "cell_type": "code",
   "execution_count": null,
   "id": "fed95df3",
   "metadata": {},
   "outputs": [],
   "source": [
    "plt.hist(dataset[\"humidity\"], bins=50)"
   ]
  },
  {
   "cell_type": "code",
   "execution_count": null,
   "id": "dfd1941d",
   "metadata": {},
   "outputs": [],
   "source": [
    "plt.scatter(dataset[\"temperature\"], dataset[\"humidity\"])"
   ]
  },
  {
   "cell_type": "markdown",
   "id": "cd7efff0",
   "metadata": {},
   "source": [
    "# Wind"
   ]
  },
  {
   "cell_type": "code",
   "execution_count": null,
   "id": "82404e01",
   "metadata": {},
   "outputs": [],
   "source": [
    "plt.hist(dataset[\"wind_velocity\"])"
   ]
  },
  {
   "cell_type": "code",
   "execution_count": null,
   "id": "da284aed",
   "metadata": {},
   "outputs": [],
   "source": [
    "dataset[\"wind_direction\"].value_counts()"
   ]
  },
  {
   "cell_type": "code",
   "execution_count": null,
   "id": "1a9d1534",
   "metadata": {},
   "outputs": [],
   "source": [
    "dataset[\"wind_direction\"] = dataset[\"wind_direction\"].map(lambda x: x.replace(\" )\", \"\"))"
   ]
  },
  {
   "cell_type": "code",
   "execution_count": null,
   "id": "f4b0ce5f",
   "metadata": {},
   "outputs": [],
   "source": [
    "dataset.loc[dataset[\"wind_direction\"] == \"×\", \"wind_velocity\"].value_counts()"
   ]
  },
  {
   "cell_type": "code",
   "execution_count": null,
   "id": "4d85e112",
   "metadata": {},
   "outputs": [],
   "source": [
    "dataset.loc[dataset[\"wind_direction\"] == \"×\", \"wind_direction\"] = \"静穏\""
   ]
  },
  {
   "cell_type": "code",
   "execution_count": null,
   "id": "fe0bb51f",
   "metadata": {},
   "outputs": [],
   "source": [
    "dataset[\"wind_direction\"].value_counts()"
   ]
  },
  {
   "cell_type": "code",
   "execution_count": null,
   "id": "e02dfbf0",
   "metadata": {},
   "outputs": [],
   "source": [
    "direction = [\"北\", \"北北東\", \"北東\", \"東北東\", \"東\", \"東南東\", \"南東\", \"南南東\", \"南\", \"南南西\", \"南西\", \"西南西\", \"西\", \"西北西\", \"北西\", \"北北西\", \"静穏\"]\n",
    "degree = [0.0, 22.5, 45.0, 67.5, 90.0, 112.5, 135.0, 157.5, 180.0, 202.5, 225.0, 247.5, 270.0, 292.5, 315.0, 337.5, 0]\n",
    "\n",
    "direction_dict = dict(zip(direction, degree))\n",
    "\n",
    "def direction_to_degree(direction):\n",
    "    if direction in direction_dict.keys():\n",
    "        return direction_dict[direction]\n",
    "    else:\n",
    "        return 0.0\n",
    "\n",
    "dataset[\"wind_direction\"] = dataset[\"wind_direction\"].map(direction_to_degree)"
   ]
  },
  {
   "cell_type": "code",
   "execution_count": null,
   "id": "59e4a680",
   "metadata": {},
   "outputs": [],
   "source": [
    "wind_direction_rad = dataset[\"wind_direction\"] * np.pi / 180"
   ]
  },
  {
   "cell_type": "code",
   "execution_count": null,
   "id": "1b7b6d62",
   "metadata": {},
   "outputs": [],
   "source": [
    "dataset[\"wind_vector_x\"] = dataset[\"wind_velocity\"] * np.cos(wind_direction_rad)\n",
    "dataset[\"wind_vector_y\"] = dataset[\"wind_velocity\"] * np.sin(wind_direction_rad)"
   ]
  },
  {
   "cell_type": "code",
   "execution_count": null,
   "id": "98eba742",
   "metadata": {},
   "outputs": [],
   "source": [
    "plt.scatter(dataset[\"wind_vector_x\"], dataset[\"wind_vector_y\"])"
   ]
  },
  {
   "cell_type": "code",
   "execution_count": null,
   "id": "bafaf0b6",
   "metadata": {},
   "outputs": [],
   "source": [
    "plt.scatter(dataset[\"wind_vector_x\"], dataset[\"temperature\"])"
   ]
  },
  {
   "cell_type": "code",
   "execution_count": null,
   "id": "459aa0bf",
   "metadata": {},
   "outputs": [],
   "source": [
    "plt.scatter(dataset[\"wind_vector_y\"], dataset[\"temperature\"])"
   ]
  },
  {
   "cell_type": "code",
   "execution_count": null,
   "id": "f1bc722b",
   "metadata": {},
   "outputs": [],
   "source": [
    "dataset = dataset.drop([\"wind_direction\", \"wind_velocity\"], axis=1)"
   ]
  },
  {
   "cell_type": "code",
   "execution_count": null,
   "id": "7728c0b3",
   "metadata": {},
   "outputs": [],
   "source": [
    "dataset.head()"
   ]
  },
  {
   "cell_type": "markdown",
   "id": "8140c80a",
   "metadata": {},
   "source": [
    "# Daylight"
   ]
  },
  {
   "cell_type": "code",
   "execution_count": null,
   "id": "2e20c782",
   "metadata": {},
   "outputs": [],
   "source": [
    "dataset.loc[dataset[\"hours_of_daylight\"].notnull(), \"is_daytime\"] = 1\n",
    "dataset.loc[dataset[\"hours_of_daylight\"].isnull(), \"is_daytime\"] = 0"
   ]
  },
  {
   "cell_type": "code",
   "execution_count": null,
   "id": "e83093f2",
   "metadata": {},
   "outputs": [],
   "source": [
    "dataset.head(10)"
   ]
  },
  {
   "cell_type": "code",
   "execution_count": null,
   "id": "2d102798",
   "metadata": {},
   "outputs": [],
   "source": [
    "dataset[\"hours_of_daylight\"] = dataset[\"hours_of_daylight\"].fillna(0.0)"
   ]
  },
  {
   "cell_type": "code",
   "execution_count": null,
   "id": "228c8097",
   "metadata": {},
   "outputs": [],
   "source": [
    "dataset[\"hours_of_daylight\"].value_counts()"
   ]
  },
  {
   "cell_type": "code",
   "execution_count": null,
   "id": "a95f9f85",
   "metadata": {},
   "outputs": [],
   "source": [
    "dataset[\"is_daytime\"].value_counts()"
   ]
  },
  {
   "cell_type": "code",
   "execution_count": null,
   "id": "7992639a",
   "metadata": {},
   "outputs": [],
   "source": [
    "plt.hist(dataset[\"hours_of_daylight\"])"
   ]
  },
  {
   "cell_type": "code",
   "execution_count": null,
   "id": "16c0b12e",
   "metadata": {},
   "outputs": [],
   "source": [
    "plt.scatter(dataset[\"temperature\"], dataset[\"hours_of_daylight\"])"
   ]
  },
  {
   "cell_type": "code",
   "execution_count": null,
   "id": "d687a403",
   "metadata": {},
   "outputs": [],
   "source": [
    "dataset[\"global_solar_radiation\"] = dataset[\"global_solar_radiation\"].fillna(0.0)"
   ]
  },
  {
   "cell_type": "code",
   "execution_count": null,
   "id": "1439dd58",
   "metadata": {},
   "outputs": [],
   "source": [
    "sns.displot(dataset[\"global_solar_radiation\"])"
   ]
  },
  {
   "cell_type": "code",
   "execution_count": null,
   "id": "6a2ac8c0",
   "metadata": {},
   "outputs": [],
   "source": [
    "plt.scatter(dataset[\"global_solar_radiation\"], dataset[\"temperature\"])"
   ]
  },
  {
   "cell_type": "markdown",
   "id": "75f6bf1d",
   "metadata": {},
   "source": [
    "# Weather"
   ]
  },
  {
   "cell_type": "code",
   "execution_count": null,
   "id": "8fd88059",
   "metadata": {},
   "outputs": [],
   "source": [
    "dataset[\"weather\"] = dataset[\"weather\"].fillna(\"--\")\n",
    "dataset[\"weather\"].value_counts()"
   ]
  },
  {
   "cell_type": "code",
   "execution_count": null,
   "id": "0dfd3c9c",
   "metadata": {},
   "outputs": [],
   "source": [
    "weather_jp = [\"快晴\", \"晴れ\", \"曇\", \"薄雲\", \"雨\", \"霧雨\", \"雪\", \"みぞれ\", \"氷あられ\", \"雷電\", \"--\"]\n",
    "weather_en = [\"cloudless day\", \"sunny\", \"cloudy\", \"thin cloud\", \"rainny\", \"drizzle\", \"snowy\", \"sleet\", \"hail\", \"thunder\", \"others\"]\n",
    "\n",
    "weather_dict = dict(zip(weather_jp, weather_en))\n",
    "\n",
    "def weather_jp_to_en(weather_jp):\n",
    "    if weather_jp in weather_dict.keys():\n",
    "        return weather_dict[weather_jp]\n",
    "    else:\n",
    "        return \"others\"\n",
    "\n",
    "dataset[\"weather\"] = dataset[\"weather\"].map(weather_jp_to_en)"
   ]
  },
  {
   "cell_type": "code",
   "execution_count": null,
   "id": "7ecceea1",
   "metadata": {},
   "outputs": [],
   "source": [
    "dataset[\"cloud_cover\"] = dataset[\"cloud_cover\"].fillna(\"--\")\n",
    "dataset[\"cloud_cover\"].value_counts()"
   ]
  },
  {
   "cell_type": "code",
   "execution_count": null,
   "id": "9c419e8d",
   "metadata": {},
   "outputs": [],
   "source": [
    "dataset.isnull().sum()"
   ]
  },
  {
   "cell_type": "code",
   "execution_count": null,
   "id": "e4ed8e7f",
   "metadata": {},
   "outputs": [],
   "source": [
    "dataset.info()"
   ]
  },
  {
   "cell_type": "code",
   "execution_count": null,
   "id": "1f4956e1",
   "metadata": {},
   "outputs": [],
   "source": [
    "dataset[\"wind_velocity_bucketized\"] = pd.cut(dataset[\"wind_velocity\"], 5)"
   ]
  },
  {
   "cell_type": "code",
   "execution_count": null,
   "id": "a9b3a1a8",
   "metadata": {},
   "outputs": [],
   "source": [
    "dataset[\"wind_velocity_bucketized\"]"
   ]
  },
  {
   "cell_type": "code",
   "execution_count": null,
   "id": "f4518bb5",
   "metadata": {},
   "outputs": [],
   "source": [
    "dataset = pd.get_dummies(dataset)"
   ]
  },
  {
   "cell_type": "code",
   "execution_count": null,
   "id": "7515c4e3",
   "metadata": {},
   "outputs": [],
   "source": [
    "dataset.info()"
   ]
  },
  {
   "cell_type": "code",
   "execution_count": null,
   "id": "e4e2066a",
   "metadata": {},
   "outputs": [],
   "source": [
    "sns.pairplot(dataset, vars=[\"temperature\", \"air_pressure_ashore\", \"air_pressure_afloat\", \"precipitation\", \"humidity\", \"hours_of_daylight\", \"global_solar_radiation\", \"diff_air_pressure\", \"wind_vector_x\", \"wind_vector_y\", \"Day sin\", \"Day cos\", \"Year sin\", \"Year cos\"])"
   ]
  },
  {
   "cell_type": "code",
   "execution_count": null,
   "id": "572d6cf5",
   "metadata": {},
   "outputs": [],
   "source": [
    "sns.scatterplot(data=dataset, x=\"hours_of_daylight\", y=\"temperature\", hue=\"is_daytime\", alpha=0.1)"
   ]
  }
 ],
 "metadata": {
  "environment": {
   "name": "tf2-gpu.2-5.m75",
   "type": "gcloud",
   "uri": "gcr.io/deeplearning-platform-release/tf2-gpu.2-5:m75"
  },
  "kernelspec": {
   "display_name": "Python 3",
   "language": "python",
   "name": "python3"
  },
  "language_info": {
   "codemirror_mode": {
    "name": "ipython",
    "version": 3
   },
   "file_extension": ".py",
   "mimetype": "text/x-python",
   "name": "python",
   "nbconvert_exporter": "python",
   "pygments_lexer": "ipython3",
   "version": "3.8.8"
  }
 },
 "nbformat": 4,
 "nbformat_minor": 5
}
