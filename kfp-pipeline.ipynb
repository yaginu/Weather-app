{
 "cells": [
  {
   "cell_type": "code",
   "execution_count": null,
   "id": "e64f3bb4",
   "metadata": {},
   "outputs": [],
   "source": [
    "!pip install kfp"
   ]
  },
  {
   "cell_type": "code",
   "execution_count": null,
   "id": "6ea4f4d3",
   "metadata": {},
   "outputs": [],
   "source": [
    "REGION = '###########' # change your code\n",
    "ENDPOINT = '###########' # change your code\n",
    "ARTIFACT_STORE_URI = '###########' # change your code\n",
    "\n",
    "PROJECT_ID = !(gcloud config get-value core/project)\n",
    "PROJECT_ID = PROJECT_ID[0]"
   ]
  },
  {
   "cell_type": "markdown",
   "id": "6d99b769",
   "metadata": {},
   "source": [
    "#  Building the docker images"
   ]
  },
  {
   "cell_type": "code",
   "execution_count": null,
   "id": "67de2117",
   "metadata": {},
   "outputs": [],
   "source": [
    "IMAGE_NAME = 'docker_images/transform_image'\n",
    "TAG = 'latest'\n",
    "TRANSFORM_IMAGE = 'gcr.io/{}/{}:{}'.format(PROJECT_ID, IMAGE_NAME, TAG)"
   ]
  },
  {
   "cell_type": "code",
   "execution_count": null,
   "id": "1d81e1cc",
   "metadata": {},
   "outputs": [],
   "source": [
    "!gcloud builds submit --timeout 15m --tag $TRANSFORM_IMAGE docker_images/transform_image"
   ]
  },
  {
   "cell_type": "code",
   "execution_count": null,
   "id": "67d67945",
   "metadata": {},
   "outputs": [],
   "source": [
    "IMAGE_NAME = 'docker_images/trainer_image'\n",
    "TAG = 'latest'\n",
    "TRAINER_IMAGE = 'gcr.io/{}/{}:{}'.format(PROJECT_ID, IMAGE_NAME, TAG)"
   ]
  },
  {
   "cell_type": "code",
   "execution_count": null,
   "id": "168aade4",
   "metadata": {},
   "outputs": [],
   "source": [
    "!gcloud builds submit --timeout 15m --tag $TRAINER_IMAGE docker_images/trainer_image"
   ]
  },
  {
   "cell_type": "code",
   "execution_count": null,
   "id": "30f0c96e",
   "metadata": {},
   "outputs": [],
   "source": [
    "IMAGE_NAME = 'docker_images/base_image'\n",
    "TAG = 'latest'\n",
    "BASE_IMAGE = 'gcr.io/{}/{}:{}'.format(PROJECT_ID, IMAGE_NAME, TAG)"
   ]
  },
  {
   "cell_type": "code",
   "execution_count": null,
   "id": "cb028e58",
   "metadata": {},
   "outputs": [],
   "source": [
    "!gcloud builds submit --timeout 15m --tag $BASE_IMAGE docker_images/base_image"
   ]
  },
  {
   "cell_type": "code",
   "execution_count": null,
   "id": "f9d538a4",
   "metadata": {},
   "outputs": [],
   "source": [
    "IMAGE_NAME = 'docker_images/evaluate_image'\n",
    "TAG = 'latest'\n",
    "EVALUATE_IMAGE = 'gcr.io/{}/{}:{}'.format(PROJECT_ID, IMAGE_NAME, TAG)"
   ]
  },
  {
   "cell_type": "code",
   "execution_count": null,
   "id": "69e951ff",
   "metadata": {},
   "outputs": [],
   "source": [
    "!gcloud builds submit --timeout 15m --tag $EVALUATE_IMAGE docker_images/evaluate_image"
   ]
  },
  {
   "cell_type": "code",
   "execution_count": null,
   "id": "123620ff",
   "metadata": {},
   "outputs": [],
   "source": [
    "IMAGE_NAME='docker_images/kfp-cli'\n",
    "TAG='latest'\n",
    "KFP_CLI = 'gcr.io/{}/{}:{}'.format(PROJECT_ID, IMAGE_NAME, TAG)"
   ]
  },
  {
   "cell_type": "code",
   "execution_count": null,
   "id": "e635f32b",
   "metadata": {},
   "outputs": [],
   "source": [
    "!gcloud builds submit --timeout 15m --tag $KFP_CLI kfp-cli"
   ]
  },
  {
   "cell_type": "markdown",
   "id": "95c425b2",
   "metadata": {},
   "source": [
    "# Code for custom prediction"
   ]
  },
  {
   "cell_type": "code",
   "execution_count": null,
   "id": "a153dfd1",
   "metadata": {},
   "outputs": [],
   "source": [
    "%%bash\n",
    "cd custom_prediction\n",
    "python setup.py sdist --formats=gztar\n",
    "gsutil cp dist/my_custom_code-0.1.tar.gz gs://[your backet]/staging/dist/\n",
    "cd .."
   ]
  },
  {
   "cell_type": "markdown",
   "id": "7b25ddde",
   "metadata": {},
   "source": [
    "# Compiling the pipeline"
   ]
  },
  {
   "cell_type": "code",
   "execution_count": null,
   "id": "7db95b94",
   "metadata": {},
   "outputs": [],
   "source": [
    "COMPONENT_URL_SEARCH_PREFIX = 'https://raw.githubusercontent.com/kubeflow/pipelines/1.6.0/components/gcp/'\n",
    "RUNTIME_VERSION = '2.5'\n",
    "PYTHON_VERSION = '3.7'\n",
    "\n",
    "%env BASE_IMAGE={BASE_IMAGE}\n",
    "%env TRANSFORM_IMAGE={TRANSFORM_IMAGE}\n",
    "%env TRAINER_IMAGE={TRAINER_IMAGE}\n",
    "%env EVALUATE_IMAGE = {EVALUATE_IMAGE}\n",
    "%env COMPONENT_URL_SEARCH_PREFIX={COMPONENT_URL_SEARCH_PREFIX}\n",
    "%env RUNTIME_VERSION={RUNTIME_VERSION}\n",
    "%env PYTHON_VERSION={PYTHON_VERSION}"
   ]
  },
  {
   "cell_type": "code",
   "execution_count": null,
   "id": "b50be61a",
   "metadata": {
    "tags": []
   },
   "outputs": [],
   "source": [
    "!dsl-compile --py pipeline/model_training_pipeline.py --output pipeline/model_training_pipeline.yaml"
   ]
  },
  {
   "cell_type": "code",
   "execution_count": null,
   "id": "6e95171a",
   "metadata": {},
   "outputs": [],
   "source": [
    "PIPELINE_NAME = 'weather_forecast_continuous_training'\n",
    "\n",
    "!kfp --endpoint $ENDPOINT pipeline upload \\\n",
    "    -p $PIPELINE_NAME \\\n",
    "    pipeline/model_training_pipeline.yaml"
   ]
  },
  {
   "cell_type": "code",
   "execution_count": null,
   "id": "398aacb0",
   "metadata": {},
   "outputs": [],
   "source": [
    "!kfp --endpoint $ENDPOINT pipeline list"
   ]
  },
  {
   "cell_type": "code",
   "execution_count": null,
   "id": "685ec124",
   "metadata": {},
   "outputs": [],
   "source": [
    "PIPELINE_ID = !(kfp --endpoint $ENDPOINT pipeline list | grep $PIPELINE_NAME | grep -o '[a-z0-9]*-[a-z0-9]*-[a-z0-9]*-[a-z0-9]*-[a-z0-9]*')\n",
    "PIPELINE_ID = PIPELINE_ID[-1]\n",
    "\n",
    "EXPERIMENT_NAME = 'Weather_Forecast_Training'\n",
    "RUN_ID = 'Run_001'\n",
    "SOURCE_TABLE = 'weather_data.tokyo'\n",
    "NUM_EPOCHS_HYPERTUNE = '1'\n",
    "NUM_EPOCHS_RETRAIN = '5'\n",
    "NUM_UNITS = '256'\n",
    "EVALUATION_METRIC = 'mse'\n",
    "EVALUATION_METRIC_THRESHOLD = '10.0'\n",
    "MODEL_ID = 'weather_forecast'\n",
    "VERSION_ID = 'v01'\n",
    "REPLACE_EXISTING_VERSION = 'True'\n",
    "\n",
    "GCS_STAGING_PATH = '{}/staging'.format(ARTIFACT_STORE_URI)"
   ]
  },
  {
   "cell_type": "code",
   "execution_count": null,
   "id": "bd070f26",
   "metadata": {},
   "outputs": [],
   "source": [
    "!kfp --endpoint $ENDPOINT run submit \\\n",
    "    -e $EXPERIMENT_NAME \\\n",
    "    -r $RUN_ID \\\n",
    "    -p $PIPELINE_ID \\\n",
    "    project_id=$PROJECT_ID \\\n",
    "    gcs_root=$GCS_STAGING_PATH \\\n",
    "    region=$REGION \\\n",
    "    source_table_name=$SOURCE_TABLE \\\n",
    "    num_epochs_hypertune=$NUM_EPOCHS_HYPERTUNE \\\n",
    "    num_epochs_retrain=$NUM_EPOCHS_RETRAIN \\\n",
    "    num_units=$NUM_UNITS \\\n",
    "    evaluation_metric_name=$EVALUATION_METRIC \\\n",
    "    evaluation_metric_threshold=$EVALUATION_METRIC_THRESHOLD \\\n",
    "    model_id=$MODEL_ID \\\n",
    "    version_id=$VERSION_ID \\\n",
    "    replace_existing_version=$REPLACE_EXISTING_VERSION"
   ]
  },
  {
   "cell_type": "code",
   "execution_count": null,
   "id": "1da1e76b",
   "metadata": {},
   "outputs": [],
   "source": [
    "%%bash\n",
    "saved_model_cli show --dir gs://[your model_dir]/predict --all"
   ]
  },
  {
   "cell_type": "markdown",
   "id": "17dc555c",
   "metadata": {},
   "source": [
    "# Manually triggering CI/CD runs"
   ]
  },
  {
   "cell_type": "code",
   "execution_count": null,
   "id": "de2ac26d",
   "metadata": {},
   "outputs": [],
   "source": [
    "SUBSTITUTIONS=\"\"\"\n",
    "_ENDPOINT={},\\\n",
    "_TRAINER_IMAGE_NAME=trainer_image,\\\n",
    "_TRANSFORM_IMAGE_NAME=transform_image,\\\n",
    "_EVALUATE_IMAGE_NAME=evaluate_image,\\\n",
    "_BASE_IMAGE_NAME=base_image,\\\n",
    "TAG_NAME=v01,\\\n",
    "_PIPELINE_FOLDER=.,\\\n",
    "_PIPELINE_DSL=model_training_pipeline.py,\\\n",
    "_PIPELINE_PACKAGE=model_training_pipeline.yaml,\\\n",
    "_PIPELINE_NAME=weather_forecast_continuous_training,\\\n",
    "_RUNTIME_VERSION=2.5,\\\n",
    "_PYTHON_VERSION=3.7,\\\n",
    "_COMPONENT_URL_SEARCH_PREFIX=https://raw.githubusercontent.com/kubeflow/pipelines/1.6.0/components/gcp/,\\\n",
    "\\\n",
    "_EXPERIMENT_NAME=Weather_Forecast_Training,\\\n",
    "_RUN_ID=Run_001,\\\n",
    "_GCS_STAGING_PATH=gs://[your_backet]/staging,\\\n",
    "_REGION=asia-northeast1,\\\n",
    "_SOURCE_TABLE=weather_data.tokyo,\\\n",
    "_NUM_EPOCHS_HYPERTUNE=1,\\\n",
    "_NUM_EPOCHS_RETRAIN=1,\\\n",
    "_NUM_UNITS=128,\\\n",
    "_EVALUATION_METRIC=mse,\\\n",
    "_EVALUATION_METRIC_THRESHOLD=10.0,\\\n",
    "_MODEL_ID=weather_forecast,\\\n",
    "_REPLACE_EXISTING_VERSION=True\n",
    "\"\"\".format(ENDPOINT).strip()"
   ]
  },
  {
   "cell_type": "code",
   "execution_count": null,
   "id": "7de5ca79",
   "metadata": {},
   "outputs": [],
   "source": [
    "!gcloud builds submit . --config cloudbuild.yaml --substitutions {SUBSTITUTIONS}"
   ]
  },
  {
   "cell_type": "markdown",
   "id": "a255a95a",
   "metadata": {},
   "source": [
    "# Online Prediction"
   ]
  },
  {
   "cell_type": "code",
   "execution_count": null,
   "id": "29326a17",
   "metadata": {},
   "outputs": [],
   "source": [
    "from oauth2client.client import GoogleCredentials\n",
    "from googleapiclient import discovery\n",
    "from googleapiclient import errors\n",
    "\n",
    "service = discovery.build('ml', 'v1')\n",
    "\n",
    "def predict_json(project, model, instances, version=None):\n",
    "\n",
    "    name = 'projects/{}/models/{}'.format(project, model)\n",
    "\n",
    "    if version is not None:\n",
    "        name += '/versions/{}'.format(version)\n",
    "\n",
    "    response = service.projects().predict(\n",
    "        name=name,\n",
    "        body={'instances': instances}\n",
    "    ).execute()\n",
    "\n",
    "    if 'error' in response:\n",
    "        raise RuntimeError(response['error'])\n",
    "\n",
    "    return response['predictions']"
   ]
  },
  {
   "cell_type": "code",
   "execution_count": null,
   "id": "ed7980a5",
   "metadata": {},
   "outputs": [],
   "source": [
    "import json\n",
    "\n",
    "instances = {}\n",
    "with open(\"daily_data.json\", mode=\"r\") as f:\n",
    "    instances = json.load(f)\n",
    "        \n",
    "predict_json(PROJECT_ID, MODEL_ID, instances)"
   ]
  }
 ],
 "metadata": {
  "environment": {
   "name": "tf2-gpu.2-5.m75",
   "type": "gcloud",
   "uri": "gcr.io/deeplearning-platform-release/tf2-gpu.2-5:m75"
  },
  "kernelspec": {
   "display_name": "Python 3",
   "language": "python",
   "name": "python3"
  },
  "language_info": {
   "codemirror_mode": {
    "name": "ipython",
    "version": 3
   },
   "file_extension": ".py",
   "mimetype": "text/x-python",
   "name": "python",
   "nbconvert_exporter": "python",
   "pygments_lexer": "ipython3",
   "version": "3.8.8"
  }
 },
 "nbformat": 4,
 "nbformat_minor": 5
}
